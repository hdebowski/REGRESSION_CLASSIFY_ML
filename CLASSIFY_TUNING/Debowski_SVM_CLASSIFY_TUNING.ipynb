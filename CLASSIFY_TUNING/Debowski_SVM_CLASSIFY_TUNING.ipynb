{
  "cells": [
    {
      "cell_type": "code",
      "execution_count": null,
      "metadata": {
        "id": "YVzrJf_jSSHI"
      },
      "outputs": [],
      "source": [
        "from sklearn import datasets\n",
        "from sklearn.model_selection import train_test_split \n",
        "from sklearn.model_selection import GridSearchCV\n",
        "from sklearn.metrics import classification_report \n",
        "from sklearn.svm import SVC"
      ]
    },
    {
      "cell_type": "code",
      "execution_count": null,
      "metadata": {
        "id": "iWtwxeiKSeXA"
      },
      "outputs": [],
      "source": [
        "digits = datasets.load_digits()"
      ]
    },
    {
      "cell_type": "code",
      "execution_count": null,
      "metadata": {
        "id": "SLMOdU75SgML"
      },
      "outputs": [],
      "source": [
        "n_samples = len(digits.images)"
      ]
    },
    {
      "cell_type": "code",
      "execution_count": null,
      "metadata": {
        "colab": {
          "base_uri": "https://localhost:8080/"
        },
        "id": "YcPwSQVXShhi",
        "outputId": "55e4fec9-2971-4889-a04f-9bbec1ad53a8"
      },
      "outputs": [
        {
          "data": {
            "text/plain": [
              "array([[ 0.,  0.,  5., ...,  0.,  0.,  0.],\n",
              "       [ 0.,  0.,  0., ..., 10.,  0.,  0.],\n",
              "       [ 0.,  0.,  0., ..., 16.,  9.,  0.],\n",
              "       ...,\n",
              "       [ 0.,  0.,  1., ...,  6.,  0.,  0.],\n",
              "       [ 0.,  0.,  2., ..., 12.,  0.,  0.],\n",
              "       [ 0.,  0., 10., ..., 12.,  1.,  0.]])"
            ]
          },
          "execution_count": 47,
          "metadata": {},
          "output_type": "execute_result"
        }
      ],
      "source": [
        "X = digits.images.reshape((n_samples, -1))"
      ]
    },
    {
      "cell_type": "code",
      "execution_count": null,
      "metadata": {
        "id": "lnLgfc9ySi0q"
      },
      "outputs": [],
      "source": [
        "y = digits.target"
      ]
    },
    {
      "cell_type": "code",
      "execution_count": null,
      "metadata": {
        "id": "DnQEsm2oSkVq"
      },
      "outputs": [],
      "source": [
        "X_train, X_test, y_train, y_test = train_test_split(\n",
        "    X, y, test_size=0.5, random_state=0)"
      ]
    },
    {
      "cell_type": "code",
      "execution_count": null,
      "metadata": {
        "id": "4FDNtgKjSlr7"
      },
      "outputs": [],
      "source": [
        "tuned_parameters = [{'kernel': ['rbf'], 'gamma': [1e-3, 1e-4],\n",
        "                     'C': [1, 10, 100, 1000]},\n",
        "                    {'kernel': ['linear'], 'C': [1, 10, 100, 1000]}]"
      ]
    },
    {
      "cell_type": "code",
      "execution_count": null,
      "metadata": {
        "id": "fkyEHNcpSnRa"
      },
      "outputs": [],
      "source": [
        "scores = ['precision', 'recall']"
      ]
    },
    {
      "cell_type": "code",
      "execution_count": null,
      "metadata": {
        "colab": {
          "base_uri": "https://localhost:8080/"
        },
        "id": "2aU9iC1gSpCS",
        "outputId": "d9ac348d-79ab-439e-b1d8-401e3f4546ea"
      },
      "outputs": [
        {
          "name": "stdout",
          "output_type": "stream",
          "text": [
            "# Tuning hyper-parametrów dla kryterium: precision\n",
            "\n",
            "# Tuning hyper-parametrów dla kryterium: recall\n",
            "\n"
          ]
        }
      ],
      "source": [
        "for score in scores:\n",
        "    print(\"# Tuning hyper-parametrów dla kryterium: %s\" % score)\n",
        "    print()\n",
        "    clf = GridSearchCV(\n",
        "        SVC(), tuned_parameters, scoring='%s_macro' % score\n",
        "    )"
      ]
    },
    {
      "cell_type": "code",
      "execution_count": null,
      "metadata": {
        "colab": {
          "base_uri": "https://localhost:8080/"
        },
        "id": "vHzyBRV6SrOa",
        "outputId": "9843d182-b289-45c6-bd6c-5251d58d52c8"
      },
      "outputs": [
        {
          "data": {
            "text/plain": [
              "GridSearchCV(estimator=SVC(),\n",
              "             param_grid=[{'C': [1, 100, 1000], 'gamma': [0.001, 0.0001],\n",
              "                          'kernel': ['rbf']},\n",
              "                         {'C': [1, 10, 100, 1000], 'kernel': ['linear']}],\n",
              "             scoring='recall_macro')"
            ]
          },
          "execution_count": 32,
          "metadata": {},
          "output_type": "execute_result"
        }
      ],
      "source": [
        "clf.fit(X_train, y_train)"
      ]
    },
    {
      "cell_type": "code",
      "execution_count": null,
      "metadata": {
        "colab": {
          "base_uri": "https://localhost:8080/"
        },
        "id": "dgOygxugSvT6",
        "outputId": "580eaa40-fc5d-43b0-82cb-c412e22b9177"
      },
      "outputs": [
        {
          "name": "stdout",
          "output_type": "stream",
          "text": [
            "Najlepsze rezultaty osiągnięto na zbiorze parametrów:\n",
            "\n",
            "{'C': 100, 'gamma': 0.001, 'kernel': 'rbf'}\n",
            "\n",
            "Wyniki uzyskane dla poszczególnych elementów siatki:\n",
            "\n"
          ]
        }
      ],
      "source": [
        "print(\"Najlepsze rezultaty osiągnięto na zbiorze parametrów:\")\n",
        "print()\n",
        "print(clf.best_params_)\n",
        "print()\n",
        "print(\"Wyniki uzyskane dla poszczególnych elementów siatki:\")\n",
        "print()"
      ]
    },
    {
      "cell_type": "code",
      "execution_count": null,
      "metadata": {
        "id": "h-B3m2PZSwhZ"
      },
      "outputs": [],
      "source": [
        "means = clf.cv_results_['mean_test_score']\n",
        "stds = clf.cv_results_['std_test_score']"
      ]
    },
    {
      "cell_type": "code",
      "execution_count": null,
      "metadata": {
        "colab": {
          "base_uri": "https://localhost:8080/"
        },
        "id": "_CnkbIOyS65J",
        "outputId": "7ee20b4e-b232-4d83-b602-9de78c0486c9"
      },
      "outputs": [
        {
          "name": "stdout",
          "output_type": "stream",
          "text": [
            "0.986 (+/-0.019) for {'C': 1, 'gamma': 0.001, 'kernel': 'rbf'}\n",
            "\n",
            "0.957 (+/-0.028) for {'C': 1, 'gamma': 0.0001, 'kernel': 'rbf'}\n",
            "\n",
            "0.987 (+/-0.019) for {'C': 10, 'gamma': 0.001, 'kernel': 'rbf'}\n",
            "\n",
            "0.981 (+/-0.028) for {'C': 10, 'gamma': 0.0001, 'kernel': 'rbf'}\n",
            "\n",
            "0.987 (+/-0.019) for {'C': 100, 'gamma': 0.001, 'kernel': 'rbf'}\n",
            "\n",
            "0.982 (+/-0.026) for {'C': 100, 'gamma': 0.0001, 'kernel': 'rbf'}\n",
            "\n",
            "0.987 (+/-0.019) for {'C': 1000, 'gamma': 0.001, 'kernel': 'rbf'}\n",
            "\n",
            "0.982 (+/-0.026) for {'C': 1000, 'gamma': 0.0001, 'kernel': 'rbf'}\n",
            "\n",
            "0.971 (+/-0.010) for {'C': 1, 'kernel': 'linear'}\n",
            "\n",
            "0.971 (+/-0.010) for {'C': 10, 'kernel': 'linear'}\n",
            "\n",
            "0.971 (+/-0.010) for {'C': 100, 'kernel': 'linear'}\n",
            "\n",
            "0.971 (+/-0.010) for {'C': 1000, 'kernel': 'linear'}\n",
            "\n"
          ]
        }
      ],
      "source": [
        " for mean, std, params in zip(means, stds, clf.cv_results_['params']):\n",
        "   print(\"%0.3f (+/-%0.03f) for %r\"\n",
        "    % (mean, std * 2, params))\n",
        "   print()"
      ]
    },
    {
      "cell_type": "code",
      "execution_count": null,
      "metadata": {
        "colab": {
          "base_uri": "https://localhost:8080/"
        },
        "id": "LPJxkGg5TQPz",
        "outputId": "e0c2d0f2-4233-4f07-aee0-23761e1a5b7e"
      },
      "outputs": [
        {
          "name": "stdout",
          "output_type": "stream",
          "text": [
            "Szczegółowy raport z klasyfikacji:\n",
            "\n",
            "The model is trained on the full development set.\n",
            "The scores are computed on the full evaluation set.\n",
            "\n",
            "              precision    recall  f1-score   support\n",
            "\n",
            "           0       1.00      1.00      1.00        89\n",
            "           1       0.97      1.00      0.98        90\n",
            "           2       0.99      0.98      0.98        92\n",
            "           3       1.00      0.99      0.99        93\n",
            "           4       1.00      1.00      1.00        76\n",
            "           5       0.99      0.98      0.99       108\n",
            "           6       0.99      1.00      0.99        89\n",
            "           7       0.99      1.00      0.99        78\n",
            "           8       1.00      0.98      0.99        92\n",
            "           9       0.99      0.99      0.99        92\n",
            "\n",
            "    accuracy                           0.99       899\n",
            "   macro avg       0.99      0.99      0.99       899\n",
            "weighted avg       0.99      0.99      0.99       899\n",
            "\n",
            "\n"
          ]
        }
      ],
      "source": [
        "print(\"Szczegółowy raport z klasyfikacji:\")\n",
        "print()\n",
        "print(\"The model is trained on the full development set.\")\n",
        "print(\"The scores are computed on the full evaluation set.\")\n",
        "print()\n",
        "y_true, y_pred = y_test, clf.predict(X_test)\n",
        "print(classification_report(y_true, y_pred))\n",
        "print()"
      ]
    },
    {
      "cell_type": "code",
      "execution_count": null,
      "metadata": {
        "id": "kv89DC_KUUJ4"
      },
      "outputs": [],
      "source": [
        "#ZADANIE 2"
      ]
    },
    {
      "cell_type": "code",
      "execution_count": null,
      "metadata": {
        "colab": {
          "base_uri": "https://localhost:8080/"
        },
        "id": "TrCwahY7WSKN",
        "outputId": "0f8da55d-bccb-4101-e094-0bfec4bcc22e"
      },
      "outputs": [
        {
          "name": "stdout",
          "output_type": "stream",
          "text": [
            "# Tuning hyper-parametrów dla kryterium: precision\n",
            "\n",
            "# Tuning hyper-parametrów dla kryterium: recall\n",
            "\n",
            "Najlepsze rezultaty osiągnięto na zbiorze parametrów:\n",
            "\n",
            "{'C': 10, 'gamma': 0.001, 'kernel': 'rbf'}\n",
            "\n",
            "Wyniki uzyskane dla poszczególnych elementów siatki:\n",
            "\n",
            "0.989 (+/-0.006) for {'C': 1, 'gamma': 0.001, 'kernel': 'rbf'}\n",
            "0.969 (+/-0.012) for {'C': 1, 'gamma': 0.0001, 'kernel': 'rbf'}\n",
            "0.991 (+/-0.006) for {'C': 10, 'gamma': 0.001, 'kernel': 'rbf'}\n",
            "0.986 (+/-0.013) for {'C': 10, 'gamma': 0.0001, 'kernel': 'rbf'}\n",
            "0.991 (+/-0.006) for {'C': 100, 'gamma': 0.001, 'kernel': 'rbf'}\n",
            "0.987 (+/-0.014) for {'C': 100, 'gamma': 0.0001, 'kernel': 'rbf'}\n",
            "0.991 (+/-0.006) for {'C': 1000, 'gamma': 0.001, 'kernel': 'rbf'}\n",
            "0.987 (+/-0.014) for {'C': 1000, 'gamma': 0.0001, 'kernel': 'rbf'}\n",
            "0.983 (+/-0.014) for {'C': 1, 'kernel': 'linear'}\n",
            "0.983 (+/-0.014) for {'C': 10, 'kernel': 'linear'}\n",
            "0.983 (+/-0.014) for {'C': 100, 'kernel': 'linear'}\n",
            "0.983 (+/-0.014) for {'C': 1000, 'kernel': 'linear'}\n",
            "\n",
            "Szczegółowy raport z klasyfikacji:\n",
            "\n",
            "The model is trained on the full development set.\n",
            "The scores are computed on the full evaluation set.\n",
            "\n",
            "              precision    recall  f1-score   support\n",
            "\n",
            "           0       1.00      1.00      1.00        45\n",
            "           1       0.98      1.00      0.99        52\n",
            "           2       1.00      0.98      0.99        53\n",
            "           3       1.00      1.00      1.00        54\n",
            "           4       1.00      1.00      1.00        48\n",
            "           5       0.98      0.96      0.97        57\n",
            "           6       0.98      1.00      0.99        60\n",
            "           7       0.98      1.00      0.99        53\n",
            "           8       1.00      0.98      0.99        61\n",
            "           9       0.98      0.98      0.98        57\n",
            "\n",
            "    accuracy                           0.99       540\n",
            "   macro avg       0.99      0.99      0.99       540\n",
            "weighted avg       0.99      0.99      0.99       540\n",
            "\n",
            "\n"
          ]
        }
      ],
      "source": [
        "#TESTOWY 30%\n",
        "from sklearn import datasets\n",
        "from sklearn.model_selection import train_test_split \n",
        "from sklearn.model_selection import GridSearchCV\n",
        "from sklearn.metrics import classification_report \n",
        "from sklearn.svm import SVC\n",
        "\n",
        "# Ładowanie zbioru o nazwie digits\n",
        "digits = datasets.load_digits()\n",
        "\n",
        "n_samples = len(digits.images)\n",
        "\n",
        "X = digits.images.reshape((n_samples, -1))\n",
        "y = digits.target\n",
        "\n",
        "X_train, X_test, y_train, y_test = train_test_split(\n",
        "    X, y, test_size=0.3, random_state=0)\n",
        "\n",
        "tuned_parameters = [{'kernel': ['rbf'], 'gamma': [1e-3, 1e-4],\n",
        "                     'C': [1, 10, 100, 1000]},\n",
        "                    {'kernel': ['linear'], 'C': [1, 10, 100, 1000]}]\n",
        "\n",
        "scores = ['precision', 'recall']\n",
        "\n",
        "for score in scores:\n",
        "   print(\"# Tuning hyper-parametrów dla kryterium: %s\" % score)\n",
        "   print()\n",
        "   clf = GridSearchCV(\n",
        "        SVC(), tuned_parameters, scoring='%s_macro' % score\n",
        "   )\n",
        "\n",
        "   clf.fit(X_train, y_train)\n",
        "\n",
        "print(\"Najlepsze rezultaty osiągnięto na zbiorze parametrów:\")\n",
        "print()\n",
        "print(clf.best_params_)\n",
        "print()\n",
        "print(\"Wyniki uzyskane dla poszczególnych elementów siatki:\")\n",
        "print()\n",
        "\n",
        "means = clf.cv_results_['mean_test_score']\n",
        "stds = clf.cv_results_['std_test_score']\n",
        "\n",
        "for mean, std, params in zip(means, stds, clf.cv_results_['params']):\n",
        "  print(\"%0.3f (+/-%0.03f) for %r\"\n",
        "     % (mean, std * 2, params))\n",
        "print()\n",
        "\n",
        "print(\"Szczegółowy raport z klasyfikacji:\")\n",
        "print()\n",
        "print(\"The model is trained on the full development set.\")\n",
        "print(\"The scores are computed on the full evaluation set.\")\n",
        "print()\n",
        "y_true, y_pred = y_test, clf.predict(X_test)\n",
        "print(classification_report(y_true, y_pred))\n",
        "print()"
      ]
    },
    {
      "cell_type": "code",
      "execution_count": null,
      "metadata": {
        "colab": {
          "base_uri": "https://localhost:8080/"
        },
        "id": "keK3Fi3jWTZz",
        "outputId": "ecf6e0de-fd32-455e-ecb9-d861d6406cba"
      },
      "outputs": [
        {
          "name": "stdout",
          "output_type": "stream",
          "text": [
            "# Tuning hyper-parametrów dla kryterium: precision\n",
            "\n",
            "# Tuning hyper-parametrów dla kryterium: recall\n",
            "\n",
            "Najlepsze rezultaty osiągnięto na zbiorze parametrów:\n",
            "\n",
            "{'C': 10, 'gamma': 0.001, 'kernel': 'rbf'}\n",
            "\n",
            "Wyniki uzyskane dla poszczególnych elementów siatki:\n",
            "\n",
            "0.991 (+/-0.009) for {'C': 1, 'gamma': 0.001, 'kernel': 'rbf'}\n",
            "0.973 (+/-0.019) for {'C': 1, 'gamma': 0.0001, 'kernel': 'rbf'}\n",
            "0.991 (+/-0.010) for {'C': 10, 'gamma': 0.001, 'kernel': 'rbf'}\n",
            "0.987 (+/-0.017) for {'C': 10, 'gamma': 0.0001, 'kernel': 'rbf'}\n",
            "0.991 (+/-0.010) for {'C': 100, 'gamma': 0.001, 'kernel': 'rbf'}\n",
            "0.989 (+/-0.010) for {'C': 100, 'gamma': 0.0001, 'kernel': 'rbf'}\n",
            "0.991 (+/-0.010) for {'C': 1000, 'gamma': 0.001, 'kernel': 'rbf'}\n",
            "0.989 (+/-0.010) for {'C': 1000, 'gamma': 0.0001, 'kernel': 'rbf'}\n",
            "0.978 (+/-0.014) for {'C': 1, 'kernel': 'linear'}\n",
            "0.978 (+/-0.014) for {'C': 10, 'kernel': 'linear'}\n",
            "0.978 (+/-0.014) for {'C': 100, 'kernel': 'linear'}\n",
            "0.978 (+/-0.014) for {'C': 1000, 'kernel': 'linear'}\n",
            "\n",
            "Szczegółowy raport z klasyfikacji:\n",
            "\n",
            "The model is trained on the full development set.\n",
            "The scores are computed on the full evaluation set.\n",
            "\n",
            "              precision    recall  f1-score   support\n",
            "\n",
            "           0       1.00      1.00      1.00        27\n",
            "           1       0.97      1.00      0.99        35\n",
            "           2       1.00      1.00      1.00        36\n",
            "           3       1.00      1.00      1.00        29\n",
            "           4       1.00      1.00      1.00        30\n",
            "           5       0.97      0.97      0.97        40\n",
            "           6       1.00      1.00      1.00        44\n",
            "           7       1.00      1.00      1.00        39\n",
            "           8       1.00      0.97      0.99        39\n",
            "           9       0.98      0.98      0.98        41\n",
            "\n",
            "    accuracy                           0.99       360\n",
            "   macro avg       0.99      0.99      0.99       360\n",
            "weighted avg       0.99      0.99      0.99       360\n",
            "\n",
            "\n"
          ]
        }
      ],
      "source": [
        "#TESTOWY 20%\n",
        "from sklearn import datasets\n",
        "from sklearn.model_selection import train_test_split \n",
        "from sklearn.model_selection import GridSearchCV\n",
        "from sklearn.metrics import classification_report \n",
        "from sklearn.svm import SVC\n",
        "\n",
        "# Ładowanie zbioru o nazwie digits\n",
        "digits = datasets.load_digits()\n",
        "\n",
        "n_samples = len(digits.images)\n",
        "\n",
        "X = digits.images.reshape((n_samples, -1))\n",
        "y = digits.target\n",
        "\n",
        "X_train, X_test, y_train, y_test = train_test_split(\n",
        "    X, y, test_size=0.2, random_state=0)\n",
        "\n",
        "tuned_parameters = [{'kernel': ['rbf'], 'gamma': [1e-3, 1e-4],\n",
        "                     'C': [1, 10, 100, 1000]},\n",
        "                    {'kernel': ['linear'], 'C': [1, 10, 100, 1000]}]\n",
        "\n",
        "scores = ['precision', 'recall']\n",
        "\n",
        "for score in scores:\n",
        "   print(\"# Tuning hyper-parametrów dla kryterium: %s\" % score)\n",
        "   print()\n",
        "   clf = GridSearchCV(\n",
        "        SVC(), tuned_parameters, scoring='%s_macro' % score\n",
        "   )\n",
        "\n",
        "   clf.fit(X_train, y_train)\n",
        "\n",
        "print(\"Najlepsze rezultaty osiągnięto na zbiorze parametrów:\")\n",
        "print()\n",
        "print(clf.best_params_)\n",
        "print()\n",
        "print(\"Wyniki uzyskane dla poszczególnych elementów siatki:\")\n",
        "print()\n",
        "\n",
        "means = clf.cv_results_['mean_test_score']\n",
        "stds = clf.cv_results_['std_test_score']\n",
        "\n",
        "for mean, std, params in zip(means, stds, clf.cv_results_['params']):\n",
        "  print(\"%0.3f (+/-%0.03f) for %r\"\n",
        "     % (mean, std * 2, params))\n",
        "print()\n",
        "\n",
        "print(\"Szczegółowy raport z klasyfikacji:\")\n",
        "print()\n",
        "print(\"The model is trained on the full development set.\")\n",
        "print(\"The scores are computed on the full evaluation set.\")\n",
        "print()\n",
        "y_true, y_pred = y_test, clf.predict(X_test)\n",
        "print(classification_report(y_true, y_pred))\n",
        "print()"
      ]
    },
    {
      "cell_type": "code",
      "execution_count": null,
      "metadata": {
        "colab": {
          "base_uri": "https://localhost:8080/"
        },
        "id": "_tMjLsxuWufT",
        "outputId": "f057b887-53c3-487d-ab8b-ae6b27e6cfc4"
      },
      "outputs": [
        {
          "output_type": "stream",
          "name": "stdout",
          "text": [
            "# Tuning hyper-parametrów dla kryterium: precision\n",
            "\n",
            "# Tuning hyper-parametrów dla kryterium: recall\n",
            "\n",
            "Najlepsze rezultaty osiągnięto na zbiorze parametrów:\n",
            "\n",
            "{'C': 1, 'gamma': 0.001, 'kernel': 'rbf'}\n",
            "\n",
            "Wyniki uzyskane dla poszczególnych elementów siatki:\n",
            "\n",
            "0.991 (+/-0.007) for {'C': 1, 'gamma': 0.001, 'kernel': 'rbf'}\n",
            "0.974 (+/-0.010) for {'C': 1, 'gamma': 0.0001, 'kernel': 'rbf'}\n",
            "0.991 (+/-0.006) for {'C': 10, 'gamma': 0.001, 'kernel': 'rbf'}\n",
            "0.987 (+/-0.007) for {'C': 10, 'gamma': 0.0001, 'kernel': 'rbf'}\n",
            "0.991 (+/-0.006) for {'C': 100, 'gamma': 0.001, 'kernel': 'rbf'}\n",
            "0.987 (+/-0.005) for {'C': 100, 'gamma': 0.0001, 'kernel': 'rbf'}\n",
            "0.991 (+/-0.006) for {'C': 1000, 'gamma': 0.001, 'kernel': 'rbf'}\n",
            "0.987 (+/-0.005) for {'C': 1000, 'gamma': 0.0001, 'kernel': 'rbf'}\n",
            "0.978 (+/-0.010) for {'C': 1, 'kernel': 'linear'}\n",
            "0.978 (+/-0.010) for {'C': 10, 'kernel': 'linear'}\n",
            "0.978 (+/-0.010) for {'C': 100, 'kernel': 'linear'}\n",
            "0.978 (+/-0.010) for {'C': 1000, 'kernel': 'linear'}\n",
            "\n",
            "Szczegółowy raport z klasyfikacji:\n",
            "\n",
            "The model is trained on the full development set.\n",
            "The scores are computed on the full evaluation set.\n",
            "\n",
            "              precision    recall  f1-score   support\n",
            "\n",
            "           0       1.00      1.00      1.00        11\n",
            "           1       0.95      1.00      0.98        20\n",
            "           2       1.00      1.00      1.00        16\n",
            "           3       1.00      1.00      1.00        10\n",
            "           4       1.00      1.00      1.00        10\n",
            "           5       0.95      1.00      0.98        21\n",
            "           6       1.00      1.00      1.00        25\n",
            "           7       1.00      1.00      1.00        20\n",
            "           8       1.00      0.96      0.98        23\n",
            "           9       1.00      0.96      0.98        24\n",
            "\n",
            "    accuracy                           0.99       180\n",
            "   macro avg       0.99      0.99      0.99       180\n",
            "weighted avg       0.99      0.99      0.99       180\n",
            "\n",
            "\n"
          ]
        }
      ],
      "source": [
        "#TESTOWY 5%\n",
        "from sklearn import datasets\n",
        "from sklearn.model_selection import train_test_split \n",
        "from sklearn.model_selection import GridSearchCV\n",
        "from sklearn.metrics import classification_report \n",
        "from sklearn.svm import SVC\n",
        "\n",
        "# Ładowanie zbioru o nazwie digits\n",
        "digits = datasets.load_digits()\n",
        "\n",
        "n_samples = len(digits.images)\n",
        "\n",
        "X = digits.images.reshape((n_samples, -1))\n",
        "y = digits.target\n",
        "\n",
        "X_train, X_test, y_train, y_test = train_test_split(\n",
        "    X, y, test_size=0.1, random_state=0)\n",
        "\n",
        "tuned_parameters = [{'kernel': ['rbf'], 'gamma': [1e-3, 1e-4],\n",
        "                     'C': [1, 10, 100, 1000]},\n",
        "                    {'kernel': ['linear'], 'C': [1, 10, 100, 1000]}]\n",
        "\n",
        "scores = ['precision', 'recall']\n",
        "\n",
        "for score in scores:\n",
        "   print(\"# Tuning hyper-parametrów dla kryterium: %s\" % score)\n",
        "   print()\n",
        "   clf = GridSearchCV(\n",
        "        SVC(), tuned_parameters, scoring='%s_macro' % score\n",
        "   )\n",
        "\n",
        "   clf.fit(X_train, y_train)\n",
        "\n",
        "print(\"Najlepsze rezultaty osiągnięto na zbiorze parametrów:\")\n",
        "print()\n",
        "print(clf.best_params_)\n",
        "print()\n",
        "print(\"Wyniki uzyskane dla poszczególnych elementów siatki:\")\n",
        "print()\n",
        "\n",
        "means = clf.cv_results_['mean_test_score']\n",
        "stds = clf.cv_results_['std_test_score']\n",
        "\n",
        "for mean, std, params in zip(means, stds, clf.cv_results_['params']):\n",
        "  print(\"%0.3f (+/-%0.03f) for %r\"\n",
        "     % (mean, std * 2, params))\n",
        "print()\n",
        "\n",
        "print(\"Szczegółowy raport z klasyfikacji:\")\n",
        "print()\n",
        "print(\"The model is trained on the full development set.\")\n",
        "print(\"The scores are computed on the full evaluation set.\")\n",
        "print()\n",
        "y_true, y_pred = y_test, clf.predict(X_test)\n",
        "print(classification_report(y_true, y_pred))\n",
        "print()"
      ]
    },
    {
      "cell_type": "code",
      "source": [
        ""
      ],
      "metadata": {
        "id": "iYOuPsBf0SCH"
      },
      "execution_count": null,
      "outputs": []
    }
  ],
  "metadata": {
    "colab": {
      "collapsed_sections": [],
      "name": "Debowski_SVM_CLASSIFY_TUNING",
      "provenance": []
    },
    "kernelspec": {
      "display_name": "Python 3",
      "name": "python3"
    },
    "language_info": {
      "name": "python"
    }
  },
  "nbformat": 4,
  "nbformat_minor": 0
}